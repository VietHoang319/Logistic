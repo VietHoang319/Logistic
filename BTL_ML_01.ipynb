{
  "nbformat": 4,
  "nbformat_minor": 0,
  "metadata": {
    "colab": {
      "name": "BTL_ML_01",
      "provenance": [],
      "collapsed_sections": [],
      "authorship_tag": "ABX9TyM5s/HzNjphJuuOLhh2F9Sl",
      "include_colab_link": true
    },
    "kernelspec": {
      "name": "python3",
      "display_name": "Python 3"
    },
    "accelerator": "GPU"
  },
  "cells": [
    {
      "cell_type": "markdown",
      "metadata": {
        "id": "view-in-github",
        "colab_type": "text"
      },
      "source": [
        "<a href=\"https://colab.research.google.com/github/VietHoang319/Logistic/blob/main/BTL_ML_01.ipynb\" target=\"_parent\"><img src=\"https://colab.research.google.com/assets/colab-badge.svg\" alt=\"Open In Colab\"/></a>"
      ]
    },
    {
      "cell_type": "code",
      "metadata": {
        "id": "fjiFS6yx4aJ8",
        "colab": {
          "base_uri": "https://localhost:8080/"
        },
        "outputId": "273896ab-0f11-4fd0-cbfd-627f4dcc69ce"
      },
      "source": [
        "#Thêm thư viện để kết nối colab với drive\n",
        "from google.colab import drive\n",
        "drive.mount('/content/drive')"
      ],
      "execution_count": null,
      "outputs": [
        {
          "output_type": "stream",
          "text": [
            "Mounted at /content/drive\n"
          ],
          "name": "stdout"
        }
      ]
    },
    {
      "cell_type": "code",
      "metadata": {
        "id": "QY8GCWuu7z6k"
      },
      "source": [
        "#Thêm thư viện\n",
        "import pandas as pd\n",
        "import numpy as np\n",
        "import matplotlib as plt\n",
        "from matplotlib import pyplot as plt\n",
        "from sklearn.metrics import accuracy_score\n",
        "from sklearn.linear_model import LogisticRegression"
      ],
      "execution_count": null,
      "outputs": []
    },
    {
      "cell_type": "code",
      "metadata": {
        "id": "RSKMXyhG78zA"
      },
      "source": [
        "#Lấy dữ liệu\n",
        "data = pd.read_csv('/content/drive/My Drive/data_classification.csv')"
      ],
      "execution_count": null,
      "outputs": []
    },
    {
      "cell_type": "code",
      "metadata": {
        "id": "CeYOLo9o8Sr5"
      },
      "source": [
        "#x là 2 feature đầu\n",
        "x = data.values[:,:2]"
      ],
      "execution_count": null,
      "outputs": []
    },
    {
      "cell_type": "code",
      "metadata": {
        "id": "3MHsAOPr8i-y",
        "colab": {
          "base_uri": "https://localhost:8080/"
        },
        "outputId": "c46159db-1701-4918-d607-e5c51575f7d6"
      },
      "source": [
        "#y là nhãn của dữ liệu\n",
        "y = []\n",
        "for i in data.values:\n",
        "    y.append(i[2])\n",
        "y = np.array(y)\n",
        "y"
      ],
      "execution_count": null,
      "outputs": [
        {
          "output_type": "execute_result",
          "data": {
            "text/plain": [
              "array([0., 0., 1., 1., 0., 1., 1., 1., 0., 1., 1., 0., 1., 0., 1., 1., 1.,\n",
              "       1., 0., 1., 1., 1., 0., 0., 0., 1., 1., 0., 1., 1., 0., 1., 1., 0.,\n",
              "       1., 1., 0., 1., 0., 0., 1., 1., 1., 0., 0., 0., 1., 1., 1., 0., 1.,\n",
              "       0., 1., 0., 0., 1., 0., 1., 0., 1., 1., 0., 1., 0., 1., 0., 0., 1.,\n",
              "       1., 0., 1., 0., 0., 1., 0., 0., 0., 0., 1., 1., 1., 0., 0., 1., 0.,\n",
              "       1., 0., 1., 0., 0., 1., 1., 1., 1., 0., 1., 0., 1., 0.])"
            ]
          },
          "metadata": {
            "tags": []
          },
          "execution_count": 5
        }
      ]
    },
    {
      "cell_type": "code",
      "metadata": {
        "id": "lStjAw1Lv3IS"
      },
      "source": [
        "F_class = np.array([x[i] for i in range(len(y)) if y[i] == 0])\n",
        "P_class = np.array([x[i] for i in range(len(y)) if y[i] == 1])"
      ],
      "execution_count": null,
      "outputs": []
    },
    {
      "cell_type": "code",
      "metadata": {
        "id": "c_xisBspwNKq",
        "colab": {
          "base_uri": "https://localhost:8080/",
          "height": 459
        },
        "outputId": "39716e0e-2f9d-4dc1-fdb1-6f2a2eb13615"
      },
      "source": [
        "plt.figure(figsize=(11, 7))\n",
        "plt.scatter(F_class[:,0], F_class[:,1], marker = \"s\", color = 'red', label = \"Trượt\")\n",
        "plt.scatter(P_class[:,0], P_class[:,1], marker = \"o\", color = 'blue', label = \"Đỗ\")\n",
        "plt.xlabel('Điểm thi')\n",
        "plt.ylabel('Điểm quá trình')\n",
        "plt.legend()"
      ],
      "execution_count": null,
      "outputs": [
        {
          "output_type": "execute_result",
          "data": {
            "text/plain": [
              "<matplotlib.legend.Legend at 0x7f2496185518>"
            ]
          },
          "metadata": {
            "tags": []
          },
          "execution_count": 7
        },
        {
          "output_type": "display_data",
          "data": {
            "image/png": "[encoded data removed]",
            "text/plain": [
              "<Figure size 792x504 with 1 Axes>"
            ]
          },
          "metadata": {
            "tags": [],
            "needs_background": "light"
          }
        }
      ]
    },
    {
      "cell_type": "code",
      "metadata": {
        "id": "dYwEkyq_zKRB"
      },
      "source": [
        "import sklearn.model_selection as model_selection\n",
        "\n",
        "x_train, x_test, y_train, y_test = model_selection.train_test_split(x, y, test_size = 0.20, random_state = 101)"
      ],
      "execution_count": null,
      "outputs": []
    },
    {
      "cell_type": "code",
      "metadata": {
        "id": "EuZND0yo8wai"
      },
      "source": [
        "#Khai báo hàm hồi quy logistic\n",
        "model = LogisticRegression()"
      ],
      "execution_count": null,
      "outputs": []
    },
    {
      "cell_type": "code",
      "metadata": {
        "id": "ctLsEe8L9Dnq",
        "colab": {
          "base_uri": "https://localhost:8080/"
        },
        "outputId": "6b3e9dec-b688-4d18-cccf-5696baecc350"
      },
      "source": [
        "#Cho 2 biến x và y vào model để train\n",
        "model.fit(x_train, y_train)"
      ],
      "execution_count": null,
      "outputs": [
        {
          "output_type": "execute_result",
          "data": {
            "text/plain": [
              "LogisticRegression(C=1.0, class_weight=None, dual=False, fit_intercept=True,\n",
              "                   intercept_scaling=1, l1_ratio=None, max_iter=100,\n",
              "                   multi_class='auto', n_jobs=None, penalty='l2',\n",
              "                   random_state=None, solver='lbfgs', tol=0.0001, verbose=0,\n",
              "                   warm_start=False)"
            ]
          },
          "metadata": {
            "tags": []
          },
          "execution_count": 10
        }
      ]
    },
    {
      "cell_type": "code",
      "metadata": {
        "id": "2kBguCIZ-qKY",
        "colab": {
          "base_uri": "https://localhost:8080/"
        },
        "outputId": "53707de1-178d-4009-9fab-5f8ed1caa668"
      },
      "source": [
        "#In ra các tham số của phương trình\n",
        "B = model.intercept_[0]\n",
        "print('B:', B)\n",
        "print('coefficients:', model.coef_)"
      ],
      "execution_count": null,
      "outputs": [
        {
          "output_type": "stream",
          "text": [
            "B: -12.240729842147479\n",
            "coefficients: [[1.34013681 1.10846564]]\n"
          ],
          "name": "stdout"
        }
      ]
    },
    {
      "cell_type": "code",
      "metadata": {
        "id": "ixQifT9y6Kv-"
      },
      "source": [
        "y_dudoan = model.predict(x_test)"
      ],
      "execution_count": null,
      "outputs": []
    },
    {
      "cell_type": "code",
      "metadata": {
        "id": "5PGirPPr0i9D",
        "colab": {
          "base_uri": "https://localhost:8080/"
        },
        "outputId": "79836bf6-769b-40e3-f5dc-e09901f2e2a8"
      },
      "source": [
        "accuracy_score(y_dudoan, y_test)"
      ],
      "execution_count": null,
      "outputs": [
        {
          "output_type": "execute_result",
          "data": {
            "text/plain": [
              "0.95"
            ]
          },
          "metadata": {
            "tags": []
          },
          "execution_count": 13
        }
      ]
    },
    {
      "cell_type": "code",
      "metadata": {
        "id": "_OdzC_lP6E0O",
        "colab": {
          "base_uri": "https://localhost:8080/"
        },
        "outputId": "1474923b-9124-4d74-e99a-827bac4308b5"
      },
      "source": [
        "from sklearn.metrics import classification_report\n",
        "\n",
        "print(classification_report(y_test, y_dudoan))"
      ],
      "execution_count": null,
      "outputs": [
        {
          "output_type": "stream",
          "text": [
            "              precision    recall  f1-score   support\n",
            "\n",
            "         0.0       1.00      0.80      0.89         5\n",
            "         1.0       0.94      1.00      0.97        15\n",
            "\n",
            "    accuracy                           0.95        20\n",
            "   macro avg       0.97      0.90      0.93        20\n",
            "weighted avg       0.95      0.95      0.95        20\n",
            "\n"
          ],
          "name": "stdout"
        }
      ]
    },
    {
      "cell_type": "code",
      "metadata": {
        "id": "YcIz5RT2BqLp"
      },
      "source": [
        "y1 = model.predict(x)\n",
        "F_class = np.array([x[i] for i in range(len(y)) if y1[i] == 0])\n",
        "P_class = np.array([x[i] for i in range(len(y)) if y1[i] == 1])"
      ],
      "execution_count": null,
      "outputs": []
    },
    {
      "cell_type": "code",
      "metadata": {
        "id": "B-pyTSKe-SBc",
        "colab": {
          "base_uri": "https://localhost:8080/",
          "height": 459
        },
        "outputId": "4ef1c84d-e29e-4fa6-ce18-cb955ca1809f"
      },
      "source": [
        "plt.figure(figsize=(11, 7))\n",
        "plt.scatter(F_class[:,0], F_class[:,1], marker = \"s\", color = 'red', label = \"Trượt\")\n",
        "plt.scatter(P_class[:,0], P_class[:,1], marker = \"o\", color = 'blue', label = \"Đỗ\")\n",
        "plt.xlabel('Điểm thi')\n",
        "plt.ylabel('Điểm quá trình')\n",
        "plt.legend()\n",
        "\n",
        "x1_min, x1_max = x[:,0].min(), x[:,0].max(),  \n",
        "x2_min, x2_max = x[:,1].min(), x[:,1].max(),  \n",
        "xx1, xx2 = np.meshgrid(np.linspace(x1_min, x1_max), np.linspace(x2_min, x2_max))  \n",
        "grid = np.c_[xx1.ravel(), xx2.ravel()]  \n",
        "probs = model.predict(grid).reshape(xx1.shape)  \n",
        "plt.contour(xx1, xx2, probs, [0.5], linewidths=0.5, colors='black')"
      ],
      "execution_count": null,
      "outputs": [
        {
          "output_type": "execute_result",
          "data": {
            "text/plain": [
              "<matplotlib.contour.QuadContourSet at 0x7f2495ced908>"
            ]
          },
          "metadata": {
            "tags": []
          },
          "execution_count": 16
        },
        {
          "output_type": "display_data",
          "data": {
            "image/png": "[encoded data removed]",
            "text/plain": [
              "<Figure size 792x504 with 1 Axes>"
            ]
          },
          "metadata": {
            "tags": [],
            "needs_background": "light"
          }
        }
      ]
    },
    {
      "cell_type": "code",
      "metadata": {
        "id": "a8J82jHx9HfC",
        "colab": {
          "base_uri": "https://localhost:8080/"
        },
        "outputId": "3c05a936-db78-4fcb-915b-5599e7970ff2"
      },
      "source": [
        "#dự đoán\n",
        "print(\"Nhập điểm thi: \")\n",
        "x = float(input())\n",
        "print(\"Nhập điểm quá trình: \")\n",
        "y = float(input())\n",
        "#Hàm dự đoán\n",
        "dd = model.predict([[x, y]])\n",
        "print(\"Nhãn của dữ liệu vừa nhập là: \", dd)\n",
        "\n",
        "if (dd == 1):\n",
        "  print(\"=> Sinh viên này đỗ\")\n",
        "else:\n",
        "  print(\"=> Sinh viên này trượt\")"
      ],
      "execution_count": null,
      "outputs": [
        {
          "output_type": "stream",
          "text": [
            "Nhập điểm thi: \n",
            "9\n",
            "Nhập điểm quá trình: \n",
            "0\n",
            "Nhãn của dữ liệu vừa nhập là:  [0.]\n",
            "=> Sinh viên này trượt\n"
          ],
          "name": "stdout"
        }
      ]
    },
    {
      "cell_type": "markdown",
      "metadata": {
        "id": "PRWQMkWqGGOs"
      },
      "source": [
        "# Mục mới"
      ]
    }
  ]
}